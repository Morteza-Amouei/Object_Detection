{
 "cells": [
  {
   "cell_type": "markdown",
   "id": "417beb6e-303d-480f-9442-8a007cd38426",
   "metadata": {},
   "source": [
    "# Object detection of road safety from image tiles to the final database"
   ]
  },
  {
   "cell_type": "markdown",
   "id": "b9c1e33b-65a9-4a21-8729-2b1bfc6afc31",
   "metadata": {},
   "source": [
    "## Creating image patches from image tiles"
   ]
  },
  {
   "cell_type": "code",
   "execution_count": 2,
   "id": "43540557-ea6d-4518-8113-d311c5ecc8f9",
   "metadata": {},
   "outputs": [],
   "source": [
    "import numpy as np\n",
    "import tifffile\n",
    "from patchify import patchify\n",
    "import os\n",
    "from PIL import Image\n",
    "from osgeo import gdal\n",
    "\n",
    "# Define the input and output directories\n",
    "input_dir_tiles = 'aerial_tiles_input/used5'\n",
    "output_dir_patches = 'aerial_patches_output3'\n",
    "\n",
    "# Define the patch size\n",
    "patch_size = (1280, 1280)\n",
    "\n",
    "# Loop over the GeoTIFF images in the input directory\n",
    "for filename in os.listdir(input_dir_tiles):\n",
    "    if filename.endswith('.tif'):\n",
    "        # Load the GeoTIFF image using tifffile\n",
    "        image = tifffile.imread(os.path.join(input_dir_tiles, filename))\n",
    "\n",
    "        # Pad the input image to make its size divisible by the patch size\n",
    "        padded_size = ((image.shape[0] + patch_size[0] - 1) // patch_size[0]) * patch_size[0], \\\n",
    "                      ((image.shape[1] + patch_size[1] - 1) // patch_size[1]) * patch_size[1]\n",
    "        padding = ((0, padded_size[0] - image.shape[0]), (0, padded_size[1] - image.shape[1]), (0, 0))\n",
    "        padded_image = np.pad(image, padding, mode='constant')\n",
    "\n",
    "        # Extract patches using patchify\n",
    "        patches = patchify(padded_image, (1280, 1280, 3), 1280)\n",
    "\n",
    "        # Get the geotransform of the input image\n",
    "        ds = gdal.Open(os.path.join(input_dir_tiles, filename))\n",
    "        geotransform = ds.GetGeoTransform()\n",
    "\n",
    "        # Loop over the patches and save them as JPEG/PNG images using Pillow\n",
    "        for i in range(patches.shape[0]):\n",
    "            for j in range(patches.shape[1]):\n",
    "                patch = np.squeeze(patches[i, j])\n",
    "                # Get the upper-left corner of the patch in geographic coordinates\n",
    "                x = geotransform[0] + j * 1280 * geotransform[1] + i * 1280 * geotransform[2]\n",
    "                y = geotransform[3] + j * 1280 * geotransform[4] + i * 1280 * geotransform[5]\n",
    "                # Get the lower-right corner of the patch in geographic coordinates\n",
    "                a = x + 1280 * geotransform[1]\n",
    "                b = y + 1280 * geotransform[5]\n",
    "                # Define the path and filename for the output file\n",
    "                filename = f\"{x}_{y}_{a}_{b}.jpg\"\n",
    "                path = os.path.join(output_dir_patches, filename)\n",
    "                # Convert the patch to a PIL Image object and save as JPEG/PNG\n",
    "                img = Image.fromarray(patch, mode='RGB')\n",
    "                img.save(path, format='JPEG')"
   ]
  },
  {
   "cell_type": "markdown",
   "id": "d87ae193-390c-4edf-9de8-924b5cda9786",
   "metadata": {},
   "source": [
    "# Prediction using YOLOv8 model"
   ]
  },
  {
   "cell_type": "code",
   "execution_count": null,
   "id": "14e64fd4-4581-4599-b2a3-5d97f4e20925",
   "metadata": {},
   "outputs": [],
   "source": [
    "!git clone https://github.com/ultralytics/ultralytics.git"
   ]
  },
  {
   "cell_type": "code",
   "execution_count": null,
   "id": "dbb3c4f0",
   "metadata": {},
   "outputs": [],
   "source": [
    "!yolo task=detect mode=predict model=weights/yolov8_1280_v8/best.pt conf=0.25 source=aerial_patches_output3 save=False save_conf=True save_txt=True"
   ]
  },
  {
   "cell_type": "markdown",
   "id": "a0018216-032d-47dc-bb66-9baaff660b19",
   "metadata": {},
   "source": [
    "## Creat the database of predicted objects"
   ]
  },
  {
   "cell_type": "code",
   "execution_count": 4,
   "id": "ea3bcf4f-89fd-461a-902e-325ac18481f0",
   "metadata": {},
   "outputs": [],
   "source": [
    "# Define a function for tranforming center point coordinates to Dutch coordinates system\n",
    "\n",
    "def transform_center_coordinates(local_x, local_y, dutch_x_tl, dutch_y_tl, dutch_x_br, dutch_y_br):\n",
    "    dutch_x_coord = dutch_x_tl + (local_x * (dutch_x_br - dutch_x_tl))\n",
    "    dutch_y_coord = dutch_y_tl + (local_y * (dutch_y_br - dutch_y_tl))\n",
    "    return dutch_x_coord, dutch_y_coord"
   ]
  },
  {
   "cell_type": "code",
   "execution_count": 5,
   "id": "595ba397-8f19-4f9d-bb28-701d655e8bf7",
   "metadata": {},
   "outputs": [],
   "source": [
    "# Define a function to transform bounding box coordinates\n",
    "\n",
    "def transform_bbox_coordinates(dutch_x_coord, dutch_y_coord, dutch_x_tl, dutch_y_tl, dutch_x_br, dutch_y_br, local_height, local_width):\n",
    "    x_min = dutch_x_coord - ((dutch_x_br - dutch_x_tl) * local_width/2)\n",
    "    x_max = dutch_x_coord + ((dutch_x_br - dutch_x_tl) * local_width/2)\n",
    "    y_min = dutch_y_coord - ((dutch_y_br - dutch_y_tl) * local_height/2)\n",
    "    y_max = dutch_y_coord + ((dutch_y_br - dutch_y_tl) * local_height/2)\n",
    "    return x_min, x_max, y_min, y_max"
   ]
  },
  {
   "cell_type": "markdown",
   "id": "1629091b-980f-416b-b427-4ae48b06af24",
   "metadata": {},
   "source": [
    "### Create point shape file for centerpoints of all objects"
   ]
  },
  {
   "cell_type": "code",
   "execution_count": 6,
   "id": "d4210a32-5033-488c-8a89-8661111209e2",
   "metadata": {},
   "outputs": [],
   "source": [
    "import os\n",
    "\n",
    "#defien the directory\n",
    "\n",
    "directory = 'runs/detect/predict20/labels'\n",
    "\n",
    "# Create a list to store the transformed points\n",
    "transformed_points = []\n",
    "\n",
    "# Define the category names\n",
    "category_names = ['crossbike', 'crosswalk', 'schoolzone', 'speed30', 'speed50', 'speedbump']\n",
    "\n",
    "# Iterate through the text files in the directory\n",
    "for filename in os.listdir(directory):\n",
    "    if filename.endswith('.txt'):\n",
    "        file_path = os.path.join(directory, filename)\n",
    "\n",
    "        # Extract Dutch coordinate values from the text file name\n",
    "        file_name = os.path.splitext(filename)[0]\n",
    "        coordinates = file_name.split('_')\n",
    "        ul_x, ul_y, br_x, br_y = map(float, coordinates)\n",
    "\n",
    "        # Open the text file\n",
    "        with open(file_path, 'r') as file:\n",
    "            # Process each line in the text file\n",
    "            for line in file:\n",
    "                # Extract object information\n",
    "                category, local_x, local_y, local_width, local_height, probability = map(float, line.strip().split())\n",
    "\n",
    "                # Transform the coordinates\n",
    "                dutch_x_coord, dutch_y_coord = transform_center_coordinates(local_x, local_y, ul_x, ul_y, br_x, br_y)\n",
    "\n",
    "                # Transform the coordinates of bounding box\n",
    "\n",
    "                x_min, x_max, y_min, y_max = transform_bbox_coordinates(dutch_x_coord, dutch_y_coord, ul_x, ul_y, br_x, br_y, local_height, local_width)\n",
    "\n",
    "                # Get the category name based on the category index\n",
    "                category_name = category_names[int(category)]\n",
    "\n",
    "                # Store the transformed point with both category number and name in the list\n",
    "                transformed_points.append([int(category), category_name, probability, dutch_x_coord, dutch_y_coord, x_min, x_max, y_min, y_max])\n",
    "\n",
    "# Create a new CSV file\n",
    "csv_file_path = os.path.join(directory, 'transformed_points_Capelle.csv')\n",
    "with open(csv_file_path, 'w') as csv_file:\n",
    "    # Write the header\n",
    "    csv_file.write(\"cat_id,cat_name,prob,x_center,y_center\\n\")\n",
    "\n",
    "    # Write the transformed points to the CSV file\n",
    "    for point in transformed_points:\n",
    "        csv_file.write(f\"{point[0]},{point[1]},{point[2]},{point[3]},{point[4]}\\n\")\n"
   ]
  },
  {
   "cell_type": "markdown",
   "id": "db178e4e-f874-418b-89d5-736d94bd22a7",
   "metadata": {},
   "source": [
    "### Create polygon shape file for the boundingboxes of all objects|"
   ]
  },
  {
   "cell_type": "code",
   "execution_count": 7,
   "id": "ef31dffa-4181-4d37-8522-751d2aa18b38",
   "metadata": {},
   "outputs": [],
   "source": [
    "import geopandas as gpd\n",
    "from shapely.geometry import Polygon\n",
    "\n",
    "# Create an empty GeoDataFrame\n",
    "crs = 'EPSG:28992'  # Update with the appropriate CRS\n",
    "geometry = []\n",
    "categories = []\n",
    "category_names = []\n",
    "probabilities = []\n",
    "x_mins = []\n",
    "x_maxs = []\n",
    "y_mins = []\n",
    "y_maxs = []\n",
    "# Iterate through the transformed points\n",
    "for point in transformed_points:\n",
    "    category = point[0]\n",
    "    category_name = point[1]\n",
    "    probability = point[2]\n",
    "    x_min = point[5]\n",
    "    x_max = point[6]\n",
    "    y_min = point[7]\n",
    "    y_max = point[8]\n",
    "    \n",
    "    # Create a polygon geometry from the coordinates\n",
    "    polygon = Polygon([(x_min, y_min), (x_max, y_min), (x_max, y_max), (x_min, y_max)])\n",
    "    \n",
    "    # Append the polygon and category information\n",
    "    geometry.append(polygon)\n",
    "    categories.append(category)\n",
    "    category_names.append(category_name)\n",
    "    probabilities.append(probability)\n",
    "    x_mins.append(x_min)\n",
    "    x_maxs.append(x_max)\n",
    "    y_mins.append(y_min)\n",
    "    y_maxs.append(y_max)\n",
    "    \n",
    "\n",
    "# Create the GeoDataFrame\n",
    "data = {'cat_id': categories, \n",
    "        'cat_name': category_names, \n",
    "        'prob': probabilities, \n",
    "        'x_min': x_mins, \n",
    "        'x_max': x_maxs,\n",
    "        'y_min': y_mins,\n",
    "        'y_max': y_maxs,\n",
    "        'geometry': geometry}\n",
    "gdf = gpd.GeoDataFrame(data, crs=crs)\n",
    "\n",
    "# Save the GeoDataFrame as a shapefile\n",
    "output_file = 'runs/detect/predict20/labels/Capelle.shp'\n",
    "gdf.to_file(output_file)\n"
   ]
  },
  {
   "cell_type": "code",
   "execution_count": null,
   "id": "f9e30455-2b35-479d-a29a-b044662de0e0",
   "metadata": {},
   "outputs": [],
   "source": []
  }
 ],
 "metadata": {
  "kernelspec": {
   "display_name": "Python",
   "language": "python",
   "name": "python3"
  },
  "language_info": {
   "codemirror_mode": {
    "name": "ipython",
    "version": 3
   },
   "file_extension": ".py",
   "mimetype": "text/x-python",
   "name": "python",
   "nbconvert_exporter": "python",
   "pygments_lexer": "ipython3",
   "version": "3.8.10"
  }
 },
 "nbformat": 4,
 "nbformat_minor": 5
}
