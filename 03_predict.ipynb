{
 "cells": [
  {
   "cell_type": "code",
   "execution_count": 1,
   "id": "7c901993-d58f-423d-acc8-b4c0a8332bf5",
   "metadata": {},
   "outputs": [
    {
     "name": "stdout",
     "output_type": "stream",
     "text": [
      "Cloning into 'yolov5'...\n",
      "remote: Enumerating objects: 15701, done.\u001b[K\n",
      "remote: Counting objects: 100% (29/29), done.\u001b[K\n",
      "remote: Compressing objects: 100% (25/25), done.\u001b[K\n",
      "remote: Total 15701 (delta 7), reused 15 (delta 4), pack-reused 15672\u001b[K\n",
      "Receiving objects: 100% (15701/15701), 14.49 MiB | 1.15 MiB/s, done.\n",
      "Resolving deltas: 100% (10748/10748), done.\n",
      "Updating files: 100% (142/142), done.\n"
     ]
    }
   ],
   "source": [
    "!git clone https://github.com/ultralytics/yolov5.git"
   ]
  },
  {
   "cell_type": "code",
   "execution_count": 2,
   "id": "fdeb30b8-8391-4e9d-9c2d-a92798b3bfa8",
   "metadata": {},
   "outputs": [
    {
     "name": "stdout",
     "output_type": "stream",
     "text": [
      "fatal: destination path 'ultralytics' already exists and is not an empty directory.\n"
     ]
    }
   ],
   "source": [
    "!git clone https://github.com/ultralytics/ultralytics.git"
   ]
  },
  {
   "cell_type": "code",
   "execution_count": 2,
   "id": "75bbd6a0-066f-452b-a1ac-f31555294119",
   "metadata": {},
   "outputs": [
    {
     "name": "stdout",
     "output_type": "stream",
     "text": [
      "/data/private/Internship/yolov5\n"
     ]
    }
   ],
   "source": [
    "%cd yolov5"
   ]
  },
  {
   "cell_type": "code",
   "execution_count": 15,
   "id": "007df0f5-5dc0-412e-bd23-676a7451b50d",
   "metadata": {},
   "outputs": [
    {
     "name": "stdout",
     "output_type": "stream",
     "text": [
      "\u001b[34m\u001b[1mval: \u001b[0mdata=data.yaml, weights=['weights/yolov5_1280_v7/best.pt'], batch_size=32, imgsz=1280, conf_thres=0.001, iou_thres=0.6, max_det=300, task=val, device=, workers=8, single_cls=False, augment=False, verbose=False, save_txt=False, save_hybrid=False, save_conf=False, save_json=False, project=yolov5/runs/val, name=exp, exist_ok=False, half=False, dnn=False\n",
      "YOLOv5 🚀 v7.0-171-g6e04b94 Python-3.8.10 torch-1.12.1+cu116 CUDA:0 (NVIDIA RTX A4000, 16109MiB)\n",
      "\n",
      "Fusing layers... \n",
      "YOLOv5m summary: 290 layers, 20873139 parameters, 0 gradients, 47.9 GFLOPs\n",
      "\u001b[34m\u001b[1mval: \u001b[0mScanning /data/private/Internship/test/labels.cache... 16 images, 0 backgro\u001b[0m\n",
      "                 Class     Images  Instances          P          R      mAP50   ERROR: Unexpected bus error encountered in worker. This might be caused by insufficient shared memory (shm).\n",
      "\u0000ERROR: Unexpected bus error encountered in worker. This might be caused by insufficient shared memory (shm).\n",
      "\u0000ERROR: Unexpected bus error encountered in worker. This might be caused by insufficient shared memory (shm).\n",
      "\u0000ERROR: Unexpected bus error encountered in worker. This might be caused by insufficient shared memory (shm).\n",
      "\u0000ERROR: Unexpected bus error encountered in worker. This might be caused by insufficient shared memory (shm).\n",
      "\u0000ERROR: Unexpected bus error encountered in worker. This might be caused by insufficient shared memory (shm).\n",
      "\u0000ERROR: Unexpected bus error encountered in worker. This might be caused by insufficient shared memory (shm).\n",
      "\u0000Traceback (most recent call last):\n",
      "  File \"/usr/lib/python3.8/multiprocessing/queues.py\", line 239, in _feed\n",
      "    obj = _ForkingPickler.dumps(obj)\n",
      "  File \"/usr/lib/python3.8/multiprocessing/reduction.py\", line 51, in dumps\n",
      "    cls(buf, protocol).dump(obj)\n",
      "  File \"/usr/local/lib/python3.8/dist-packages/torch/multiprocessing/reductions.py\", line 358, in reduce_storage\n",
      "    fd, size = storage._share_fd_cpu_()\n",
      "RuntimeError: unable to write to file </torch_217156_2267479542_0>: No space left on device (28)\n",
      "Traceback (most recent call last):\n",
      "  File \"/usr/lib/python3.8/multiprocessing/queues.py\", line 239, in _feed\n",
      "    obj = _ForkingPickler.dumps(obj)\n",
      "  File \"/usr/lib/python3.8/multiprocessing/reduction.py\", line 51, in dumps\n",
      "    cls(buf, protocol).dump(obj)\n",
      "  File \"/usr/local/lib/python3.8/dist-packages/torch/multiprocessing/reductions.py\", line 358, in reduce_storage\n",
      "    fd, size = storage._share_fd_cpu_()\n",
      "RuntimeError: unable to write to file </torch_217156_3091196274_1>: No space left on device (28)\n",
      "                 Class     Images  Instances          P          R      mAP50   \n",
      "Traceback (most recent call last):\n",
      "  File \"/usr/local/lib/python3.8/dist-packages/torch/utils/data/dataloader.py\", line 1163, in _try_get_data\n",
      "    data = self._data_queue.get(timeout=timeout)\n",
      "  File \"/usr/lib/python3.8/queue.py\", line 179, in get\n",
      "    self.not_empty.wait(remaining)\n",
      "  File \"/usr/lib/python3.8/threading.py\", line 306, in wait\n",
      "    gotit = waiter.acquire(True, timeout)\n",
      "  File \"/usr/local/lib/python3.8/dist-packages/torch/utils/data/_utils/signal_handling.py\", line 66, in handler\n",
      "    _error_if_any_worker_fails()\n",
      "RuntimeError: DataLoader worker (pid 217516) is killed by signal: Bus error. It is possible that dataloader's workers are out of shared memory. Please try to raise your shared memory limit.\n",
      "\n",
      "The above exception was the direct cause of the following exception:\n",
      "\n",
      "Traceback (most recent call last):\n",
      "  File \"yolov5/val.py\", line 409, in <module>\n",
      "    main(opt)\n",
      "  File \"yolov5/val.py\", line 380, in main\n",
      "    run(**vars(opt))\n",
      "  File \"/usr/local/lib/python3.8/dist-packages/torch/autograd/grad_mode.py\", line 27, in decorate_context\n",
      "    return func(*args, **kwargs)\n",
      "  File \"yolov5/val.py\", line 198, in run\n",
      "    for batch_i, (im, targets, paths, shapes) in enumerate(pbar):\n",
      "  File \"/usr/local/lib/python3.8/dist-packages/tqdm/std.py\", line 1195, in __iter__\n",
      "    for obj in iterable:\n",
      "  File \"/data/private/Internship/yolov5/utils/dataloaders.py\", line 172, in __iter__\n",
      "    yield next(self.iterator)\n",
      "  File \"/usr/local/lib/python3.8/dist-packages/torch/utils/data/dataloader.py\", line 681, in __next__\n",
      "    data = self._next_data()\n",
      "  File \"/usr/local/lib/python3.8/dist-packages/torch/utils/data/dataloader.py\", line 1359, in _next_data\n",
      "    idx, data = self._get_data()\n",
      "  File \"/usr/local/lib/python3.8/dist-packages/torch/utils/data/dataloader.py\", line 1315, in _get_data\n",
      "    success, data = self._try_get_data()\n",
      "  File \"/usr/local/lib/python3.8/dist-packages/torch/utils/data/dataloader.py\", line 1176, in _try_get_data\n",
      "    raise RuntimeError('DataLoader worker (pid(s) {}) exited unexpectedly'.format(pids_str)) from e\n",
      "RuntimeError: DataLoader worker (pid(s) 217516) exited unexpectedly\n"
     ]
    }
   ],
   "source": [
    "!python yolov5/val.py --weights weights/yolov5_1280_v7/best.pt --data data.yaml --img 1280"
   ]
  },
  {
   "cell_type": "code",
   "execution_count": 2,
   "id": "79786cbe-fe65-4b3f-90b1-6fc306013fdf",
   "metadata": {},
   "outputs": [
    {
     "name": "stdout",
     "output_type": "stream",
     "text": [
      "Ultralytics YOLOv8.0.106 🚀 Python-3.8.10 torch-1.12.1+cu116 CUDA:0 (NVIDIA RTX A4000, 16109MiB)\n",
      "Model summary (fused): 168 layers, 11127906 parameters, 0 gradients, 28.4 GFLOPs\n",
      "\n",
      "image 1/100 /data/private/Internship/pred/2022_096000_437000_RGB_hrl/96000.0_436078.4_96102.4_435976.0.jpg: 1280x1280 (no detections), 38.8ms\n",
      "image 2/100 /data/private/Internship/pred/2022_096000_437000_RGB_hrl/96000.0_436180.8_96102.4_436078.39999999997.jpg: 1280x1280 (no detections), 53.2ms\n",
      "image 3/100 /data/private/Internship/pred/2022_096000_437000_RGB_hrl/96000.0_436283.2_96102.4_436180.8.jpg: 1280x1280 (no detections), 49.2ms\n",
      "image 4/100 /data/private/Internship/pred/2022_096000_437000_RGB_hrl/96000.0_436385.6_96102.4_436283.19999999995.jpg: 1280x1280 (no detections), 49.5ms\n",
      "image 5/100 /data/private/Internship/pred/2022_096000_437000_RGB_hrl/96000.0_436488.0_96102.4_436385.6.jpg: 1280x1280 (no detections), 47.9ms\n",
      "image 6/100 /data/private/Internship/pred/2022_096000_437000_RGB_hrl/96000.0_436590.4_96102.4_436488.0.jpg: 1280x1280 1 speed30, 2 speed50s, 43.4ms\n",
      "image 7/100 /data/private/Internship/pred/2022_096000_437000_RGB_hrl/96000.0_436692.8_96102.4_436590.39999999997.jpg: 1280x1280 2 speed30s, 40.2ms\n",
      "image 8/100 /data/private/Internship/pred/2022_096000_437000_RGB_hrl/96000.0_436795.2_96102.4_436692.8.jpg: 1280x1280 (no detections), 37.4ms\n",
      "image 9/100 /data/private/Internship/pred/2022_096000_437000_RGB_hrl/96000.0_436897.6_96102.4_436795.19999999995.jpg: 1280x1280 (no detections), 50.8ms\n",
      "image 10/100 /data/private/Internship/pred/2022_096000_437000_RGB_hrl/96000.0_437000.0_96102.4_436897.6.jpg: 1280x1280 (no detections), 47.6ms\n",
      "image 11/100 /data/private/Internship/pred/2022_096000_437000_RGB_hrl/96102.4_436078.4_96204.79999999999_435976.0.jpg: 1280x1280 (no detections), 43.7ms\n",
      "image 12/100 /data/private/Internship/pred/2022_096000_437000_RGB_hrl/96102.4_436180.8_96204.79999999999_436078.39999999997.jpg: 1280x1280 (no detections), 47.6ms\n",
      "image 13/100 /data/private/Internship/pred/2022_096000_437000_RGB_hrl/96102.4_436283.2_96204.79999999999_436180.8.jpg: 1280x1280 (no detections), 42.4ms\n",
      "image 14/100 /data/private/Internship/pred/2022_096000_437000_RGB_hrl/96102.4_436385.6_96204.79999999999_436283.19999999995.jpg: 1280x1280 (no detections), 48.8ms\n",
      "image 15/100 /data/private/Internship/pred/2022_096000_437000_RGB_hrl/96102.4_436488.0_96204.79999999999_436385.6.jpg: 1280x1280 (no detections), 46.0ms\n",
      "image 16/100 /data/private/Internship/pred/2022_096000_437000_RGB_hrl/96102.4_436590.4_96204.79999999999_436488.0.jpg: 1280x1280 2 speed50s, 45.3ms\n",
      "image 17/100 /data/private/Internship/pred/2022_096000_437000_RGB_hrl/96102.4_436692.8_96204.79999999999_436590.39999999997.jpg: 1280x1280 (no detections), 51.6ms\n",
      "image 18/100 /data/private/Internship/pred/2022_096000_437000_RGB_hrl/96102.4_436795.2_96204.79999999999_436692.8.jpg: 1280x1280 1 speed30, 49.4ms\n",
      "image 19/100 /data/private/Internship/pred/2022_096000_437000_RGB_hrl/96102.4_436897.6_96204.79999999999_436795.19999999995.jpg: 1280x1280 (no detections), 43.9ms\n",
      "image 20/100 /data/private/Internship/pred/2022_096000_437000_RGB_hrl/96102.4_437000.0_96204.79999999999_436897.6.jpg: 1280x1280 (no detections), 43.4ms\n",
      "image 21/100 /data/private/Internship/pred/2022_096000_437000_RGB_hrl/96204.8_436078.4_96307.2_435976.0.jpg: 1280x1280 (no detections), 48.5ms\n",
      "image 22/100 /data/private/Internship/pred/2022_096000_437000_RGB_hrl/96204.8_436180.8_96307.2_436078.39999999997.jpg: 1280x1280 (no detections), 48.8ms\n",
      "image 23/100 /data/private/Internship/pred/2022_096000_437000_RGB_hrl/96204.8_436283.2_96307.2_436180.8.jpg: 1280x1280 (no detections), 53.2ms\n",
      "image 24/100 /data/private/Internship/pred/2022_096000_437000_RGB_hrl/96204.8_436385.6_96307.2_436283.19999999995.jpg: 1280x1280 (no detections), 47.8ms\n",
      "image 25/100 /data/private/Internship/pred/2022_096000_437000_RGB_hrl/96204.8_436488.0_96307.2_436385.6.jpg: 1280x1280 (no detections), 47.4ms\n",
      "image 26/100 /data/private/Internship/pred/2022_096000_437000_RGB_hrl/96204.8_436590.4_96307.2_436488.0.jpg: 1280x1280 2 speed50s, 48.7ms\n",
      "image 27/100 /data/private/Internship/pred/2022_096000_437000_RGB_hrl/96204.8_436692.8_96307.2_436590.39999999997.jpg: 1280x1280 1 speed30, 1 speed50, 47.6ms\n",
      "image 28/100 /data/private/Internship/pred/2022_096000_437000_RGB_hrl/96204.8_436795.2_96307.2_436692.8.jpg: 1280x1280 (no detections), 43.0ms\n",
      "image 29/100 /data/private/Internship/pred/2022_096000_437000_RGB_hrl/96204.8_436897.6_96307.2_436795.19999999995.jpg: 1280x1280 (no detections), 39.6ms\n",
      "image 30/100 /data/private/Internship/pred/2022_096000_437000_RGB_hrl/96204.8_437000.0_96307.2_436897.6.jpg: 1280x1280 1 speed30, 43.3ms\n",
      "image 31/100 /data/private/Internship/pred/2022_096000_437000_RGB_hrl/96307.2_436078.4_96409.59999999999_435976.0.jpg: 1280x1280 (no detections), 49.1ms\n",
      "image 32/100 /data/private/Internship/pred/2022_096000_437000_RGB_hrl/96307.2_436180.8_96409.59999999999_436078.39999999997.jpg: 1280x1280 (no detections), 49.9ms\n",
      "image 33/100 /data/private/Internship/pred/2022_096000_437000_RGB_hrl/96307.2_436283.2_96409.59999999999_436180.8.jpg: 1280x1280 (no detections), 43.3ms\n",
      "image 34/100 /data/private/Internship/pred/2022_096000_437000_RGB_hrl/96307.2_436385.6_96409.59999999999_436283.19999999995.jpg: 1280x1280 (no detections), 40.0ms\n",
      "image 35/100 /data/private/Internship/pred/2022_096000_437000_RGB_hrl/96307.2_436488.0_96409.59999999999_436385.6.jpg: 1280x1280 (no detections), 47.3ms\n",
      "image 36/100 /data/private/Internship/pred/2022_096000_437000_RGB_hrl/96307.2_436590.4_96409.59999999999_436488.0.jpg: 1280x1280 (no detections), 49.9ms\n",
      "image 37/100 /data/private/Internship/pred/2022_096000_437000_RGB_hrl/96307.2_436692.8_96409.59999999999_436590.39999999997.jpg: 1280x1280 (no detections), 48.6ms\n",
      "image 38/100 /data/private/Internship/pred/2022_096000_437000_RGB_hrl/96307.2_436795.2_96409.59999999999_436692.8.jpg: 1280x1280 (no detections), 49.0ms\n",
      "image 39/100 /data/private/Internship/pred/2022_096000_437000_RGB_hrl/96307.2_436897.6_96409.59999999999_436795.19999999995.jpg: 1280x1280 1 speed50, 47.3ms\n",
      "image 40/100 /data/private/Internship/pred/2022_096000_437000_RGB_hrl/96307.2_437000.0_96409.59999999999_436897.6.jpg: 1280x1280 1 speed50, 42.7ms\n",
      "image 41/100 /data/private/Internship/pred/2022_096000_437000_RGB_hrl/96409.6_436078.4_96512.0_435976.0.jpg: 1280x1280 (no detections), 42.2ms\n",
      "image 42/100 /data/private/Internship/pred/2022_096000_437000_RGB_hrl/96409.6_436180.8_96512.0_436078.39999999997.jpg: 1280x1280 (no detections), 49.5ms\n",
      "image 43/100 /data/private/Internship/pred/2022_096000_437000_RGB_hrl/96409.6_436283.2_96512.0_436180.8.jpg: 1280x1280 (no detections), 39.0ms\n",
      "image 44/100 /data/private/Internship/pred/2022_096000_437000_RGB_hrl/96409.6_436385.6_96512.0_436283.19999999995.jpg: 1280x1280 (no detections), 36.8ms\n",
      "image 45/100 /data/private/Internship/pred/2022_096000_437000_RGB_hrl/96409.6_436488.0_96512.0_436385.6.jpg: 1280x1280 (no detections), 47.9ms\n",
      "image 46/100 /data/private/Internship/pred/2022_096000_437000_RGB_hrl/96409.6_436590.4_96512.0_436488.0.jpg: 1280x1280 (no detections), 51.0ms\n",
      "image 47/100 /data/private/Internship/pred/2022_096000_437000_RGB_hrl/96409.6_436692.8_96512.0_436590.39999999997.jpg: 1280x1280 (no detections), 44.2ms\n",
      "image 48/100 /data/private/Internship/pred/2022_096000_437000_RGB_hrl/96409.6_436795.2_96512.0_436692.8.jpg: 1280x1280 (no detections), 41.9ms\n",
      "image 49/100 /data/private/Internship/pred/2022_096000_437000_RGB_hrl/96409.6_436897.6_96512.0_436795.19999999995.jpg: 1280x1280 (no detections), 40.4ms\n",
      "image 50/100 /data/private/Internship/pred/2022_096000_437000_RGB_hrl/96409.6_437000.0_96512.0_436897.6.jpg: 1280x1280 (no detections), 53.9ms\n",
      "image 51/100 /data/private/Internship/pred/2022_096000_437000_RGB_hrl/96512.0_436078.4_96614.4_435976.0.jpg: 1280x1280 (no detections), 52.9ms\n",
      "image 52/100 /data/private/Internship/pred/2022_096000_437000_RGB_hrl/96512.0_436180.8_96614.4_436078.39999999997.jpg: 1280x1280 (no detections), 47.2ms\n",
      "image 53/100 /data/private/Internship/pred/2022_096000_437000_RGB_hrl/96512.0_436283.2_96614.4_436180.8.jpg: 1280x1280 (no detections), 40.7ms\n",
      "image 54/100 /data/private/Internship/pred/2022_096000_437000_RGB_hrl/96512.0_436385.6_96614.4_436283.19999999995.jpg: 1280x1280 (no detections), 44.9ms\n",
      "image 55/100 /data/private/Internship/pred/2022_096000_437000_RGB_hrl/96512.0_436488.0_96614.4_436385.6.jpg: 1280x1280 (no detections), 53.4ms\n",
      "image 56/100 /data/private/Internship/pred/2022_096000_437000_RGB_hrl/96512.0_436590.4_96614.4_436488.0.jpg: 1280x1280 (no detections), 49.5ms\n",
      "image 57/100 /data/private/Internship/pred/2022_096000_437000_RGB_hrl/96512.0_436692.8_96614.4_436590.39999999997.jpg: 1280x1280 1 speed50, 48.1ms\n",
      "image 58/100 /data/private/Internship/pred/2022_096000_437000_RGB_hrl/96512.0_436795.2_96614.4_436692.8.jpg: 1280x1280 (no detections), 43.3ms\n",
      "image 59/100 /data/private/Internship/pred/2022_096000_437000_RGB_hrl/96512.0_436897.6_96614.4_436795.19999999995.jpg: 1280x1280 (no detections), 45.8ms\n",
      "image 60/100 /data/private/Internship/pred/2022_096000_437000_RGB_hrl/96512.0_437000.0_96614.4_436897.6.jpg: 1280x1280 (no detections), 47.3ms\n",
      "image 61/100 /data/private/Internship/pred/2022_096000_437000_RGB_hrl/96614.4_436078.4_96716.79999999999_435976.0.jpg: 1280x1280 (no detections), 41.1ms\n",
      "image 62/100 /data/private/Internship/pred/2022_096000_437000_RGB_hrl/96614.4_436180.8_96716.79999999999_436078.39999999997.jpg: 1280x1280 1 speed50, 36.2ms\n",
      "image 63/100 /data/private/Internship/pred/2022_096000_437000_RGB_hrl/96614.4_436283.2_96716.79999999999_436180.8.jpg: 1280x1280 1 speed30, 2 speedbumps, 47.5ms\n",
      "image 64/100 /data/private/Internship/pred/2022_096000_437000_RGB_hrl/96614.4_436385.6_96716.79999999999_436283.19999999995.jpg: 1280x1280 (no detections), 47.6ms\n",
      "image 65/100 /data/private/Internship/pred/2022_096000_437000_RGB_hrl/96614.4_436488.0_96716.79999999999_436385.6.jpg: 1280x1280 1 speed30, 52.8ms\n",
      "image 66/100 /data/private/Internship/pred/2022_096000_437000_RGB_hrl/96614.4_436590.4_96716.79999999999_436488.0.jpg: 1280x1280 (no detections), 48.6ms\n",
      "image 67/100 /data/private/Internship/pred/2022_096000_437000_RGB_hrl/96614.4_436692.8_96716.79999999999_436590.39999999997.jpg: 1280x1280 1 speed50, 44.0ms\n",
      "image 68/100 /data/private/Internship/pred/2022_096000_437000_RGB_hrl/96614.4_436795.2_96716.79999999999_436692.8.jpg: 1280x1280 (no detections), 52.6ms\n",
      "image 69/100 /data/private/Internship/pred/2022_096000_437000_RGB_hrl/96614.4_436897.6_96716.79999999999_436795.19999999995.jpg: 1280x1280 2 speedbumps, 49.6ms\n",
      "image 70/100 /data/private/Internship/pred/2022_096000_437000_RGB_hrl/96614.4_437000.0_96716.79999999999_436897.6.jpg: 1280x1280 1 speedbump, 42.0ms\n",
      "image 71/100 /data/private/Internship/pred/2022_096000_437000_RGB_hrl/96716.8_436078.4_96819.2_435976.0.jpg: 1280x1280 (no detections), 45.5ms\n",
      "image 72/100 /data/private/Internship/pred/2022_096000_437000_RGB_hrl/96716.8_436180.8_96819.2_436078.39999999997.jpg: 1280x1280 (no detections), 54.2ms\n",
      "image 73/100 /data/private/Internship/pred/2022_096000_437000_RGB_hrl/96716.8_436283.2_96819.2_436180.8.jpg: 1280x1280 (no detections), 49.8ms\n",
      "image 74/100 /data/private/Internship/pred/2022_096000_437000_RGB_hrl/96716.8_436385.6_96819.2_436283.19999999995.jpg: 1280x1280 (no detections), 47.8ms\n",
      "image 75/100 /data/private/Internship/pred/2022_096000_437000_RGB_hrl/96716.8_436488.0_96819.2_436385.6.jpg: 1280x1280 (no detections), 42.6ms\n",
      "image 76/100 /data/private/Internship/pred/2022_096000_437000_RGB_hrl/96716.8_436590.4_96819.2_436488.0.jpg: 1280x1280 (no detections), 49.5ms\n",
      "image 77/100 /data/private/Internship/pred/2022_096000_437000_RGB_hrl/96716.8_436692.8_96819.2_436590.39999999997.jpg: 1280x1280 (no detections), 53.2ms\n",
      "image 78/100 /data/private/Internship/pred/2022_096000_437000_RGB_hrl/96716.8_436795.2_96819.2_436692.8.jpg: 1280x1280 3 crosswalks, 3 speedbumps, 50.9ms\n",
      "image 79/100 /data/private/Internship/pred/2022_096000_437000_RGB_hrl/96716.8_436897.6_96819.2_436795.19999999995.jpg: 1280x1280 2 speedbumps, 45.7ms\n",
      "image 80/100 /data/private/Internship/pred/2022_096000_437000_RGB_hrl/96716.8_437000.0_96819.2_436897.6.jpg: 1280x1280 1 speedbump, 45.6ms\n",
      "image 81/100 /data/private/Internship/pred/2022_096000_437000_RGB_hrl/96819.2_436078.4_96921.59999999999_435976.0.jpg: 1280x1280 (no detections), 42.4ms\n",
      "image 82/100 /data/private/Internship/pred/2022_096000_437000_RGB_hrl/96819.2_436180.8_96921.59999999999_436078.39999999997.jpg: 1280x1280 (no detections), 52.3ms\n",
      "image 83/100 /data/private/Internship/pred/2022_096000_437000_RGB_hrl/96819.2_436283.2_96921.59999999999_436180.8.jpg: 1280x1280 (no detections), 49.6ms\n",
      "image 84/100 /data/private/Internship/pred/2022_096000_437000_RGB_hrl/96819.2_436385.6_96921.59999999999_436283.19999999995.jpg: 1280x1280 2 speedbumps, 48.8ms\n",
      "image 85/100 /data/private/Internship/pred/2022_096000_437000_RGB_hrl/96819.2_436488.0_96921.59999999999_436385.6.jpg: 1280x1280 1 speedbump, 40.6ms\n",
      "image 86/100 /data/private/Internship/pred/2022_096000_437000_RGB_hrl/96819.2_436590.4_96921.59999999999_436488.0.jpg: 1280x1280 (no detections), 53.7ms\n",
      "image 87/100 /data/private/Internship/pred/2022_096000_437000_RGB_hrl/96819.2_436692.8_96921.59999999999_436590.39999999997.jpg: 1280x1280 (no detections), 51.2ms\n",
      "image 88/100 /data/private/Internship/pred/2022_096000_437000_RGB_hrl/96819.2_436795.2_96921.59999999999_436692.8.jpg: 1280x1280 2 crosswalks, 2 schoolzones, 1 speed30, 2 speedbumps, 48.9ms\n",
      "image 89/100 /data/private/Internship/pred/2022_096000_437000_RGB_hrl/96819.2_436897.6_96921.59999999999_436795.19999999995.jpg: 1280x1280 2 speedbumps, 30.0ms\n",
      "image 90/100 /data/private/Internship/pred/2022_096000_437000_RGB_hrl/96819.2_437000.0_96921.59999999999_436897.6.jpg: 1280x1280 3 speedbumps, 51.7ms\n",
      "image 91/100 /data/private/Internship/pred/2022_096000_437000_RGB_hrl/96921.6_436078.4_97024.0_435976.0.jpg: 1280x1280 (no detections), 50.5ms\n",
      "image 92/100 /data/private/Internship/pred/2022_096000_437000_RGB_hrl/96921.6_436180.8_97024.0_436078.39999999997.jpg: 1280x1280 (no detections), 51.0ms\n",
      "image 93/100 /data/private/Internship/pred/2022_096000_437000_RGB_hrl/96921.6_436283.2_97024.0_436180.8.jpg: 1280x1280 (no detections), 43.1ms\n",
      "image 94/100 /data/private/Internship/pred/2022_096000_437000_RGB_hrl/96921.6_436385.6_97024.0_436283.19999999995.jpg: 1280x1280 (no detections), 41.4ms\n",
      "image 95/100 /data/private/Internship/pred/2022_096000_437000_RGB_hrl/96921.6_436488.0_97024.0_436385.6.jpg: 1280x1280 (no detections), 47.8ms\n",
      "image 96/100 /data/private/Internship/pred/2022_096000_437000_RGB_hrl/96921.6_436590.4_97024.0_436488.0.jpg: 1280x1280 (no detections), 50.4ms\n",
      "image 97/100 /data/private/Internship/pred/2022_096000_437000_RGB_hrl/96921.6_436692.8_97024.0_436590.39999999997.jpg: 1280x1280 (no detections), 50.9ms\n",
      "image 98/100 /data/private/Internship/pred/2022_096000_437000_RGB_hrl/96921.6_436795.2_97024.0_436692.8.jpg: 1280x1280 (no detections), 49.7ms\n",
      "image 99/100 /data/private/Internship/pred/2022_096000_437000_RGB_hrl/96921.6_436897.6_97024.0_436795.19999999995.jpg: 1280x1280 (no detections), 50.7ms\n",
      "image 100/100 /data/private/Internship/pred/2022_096000_437000_RGB_hrl/96921.6_437000.0_97024.0_436897.6.jpg: 1280x1280 2 speedbumps, 47.4ms\n",
      "Speed: 7.0ms preprocess, 46.7ms inference, 17.2ms postprocess per image at shape (1, 3, 1280, 1280)\n",
      "Results saved to \u001b[1mruns/detect/predict17\u001b[0m\n",
      "25 labels saved to runs/detect/predict17/labels\n"
     ]
    }
   ],
   "source": [
    "!yolo task=detect mode=predict model=weights/yolov8_1280_v8/best.pt conf=0.25 source=pred/2022_096000_437000_RGB_hrl save=False save_conf=True save_txt=True"
   ]
  },
  {
   "cell_type": "code",
   "execution_count": 3,
   "id": "688ef2b1-aeef-4314-b2d9-088bd329a66d",
   "metadata": {},
   "outputs": [
    {
     "name": "stdout",
     "output_type": "stream",
     "text": [
      "/data/private/Internship/runs\n"
     ]
    }
   ],
   "source": []
  }
 ],
 "metadata": {
  "kernelspec": {
   "display_name": "Python",
   "language": "python",
   "name": "python3"
  },
  "language_info": {
   "codemirror_mode": {
    "name": "ipython",
    "version": 3
   },
   "file_extension": ".py",
   "mimetype": "text/x-python",
   "name": "python",
   "nbconvert_exporter": "python",
   "pygments_lexer": "ipython3",
   "version": "3.8.10"
  }
 },
 "nbformat": 4,
 "nbformat_minor": 5
}
