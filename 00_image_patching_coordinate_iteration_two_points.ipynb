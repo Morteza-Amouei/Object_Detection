{
 "cells": [
  {
   "cell_type": "code",
   "execution_count": null,
   "id": "c064538f-aba5-48d8-9f75-16f2fdf93002",
   "metadata": {},
   "outputs": [],
   "source": [
    "import numpy as np\n",
    "import tifffile\n",
    "from patchify import patchify\n",
    "import os\n",
    "from PIL import Image\n",
    "from osgeo import gdal\n",
    "\n",
    "# Define the input and output directories\n",
    "input_dir = 'input_directory'\n",
    "output_dir = 'output_directory'\n",
    "\n",
    "# Define the patch size\n",
    "patch_size = (1280, 1280)\n",
    "\n",
    "# Loop over the GeoTIFF images in the input directory\n",
    "for filename in os.listdir(input_dir):\n",
    "    if filename.endswith('.tif'):\n",
    "        # Load the GeoTIFF image using tifffile\n",
    "        image = tifffile.imread(os.path.join(input_dir, filename))\n",
    "\n",
    "        # Pad the input image to make its size divisible by the patch size\n",
    "        padded_size = ((image.shape[0] + patch_size[0] - 1) // patch_size[0]) * patch_size[0], \\\n",
    "                      ((image.shape[1] + patch_size[1] - 1) // patch_size[1]) * patch_size[1]\n",
    "        padding = ((0, padded_size[0] - image.shape[0]), (0, padded_size[1] - image.shape[1]), (0, 0))\n",
    "        padded_image = np.pad(image, padding, mode='constant')\n",
    "\n",
    "        # Extract patches using patchify\n",
    "        patches = patchify(padded_image, (1280, 1280, 3), 1280)\n",
    "\n",
    "        # Get the geotransform of the input image\n",
    "        ds = gdal.Open(os.path.join(input_dir, filename))\n",
    "        geotransform = ds.GetGeoTransform()\n",
    "\n",
    "        # Create the output subdirectory for the image\n",
    "        output_subdir = os.path.join(output_dir, os.path.splitext(filename)[0])\n",
    "        if not os.path.exists(output_subdir):\n",
    "            os.makedirs(output_subdir)\n",
    "\n",
    "        # Loop over the patches and save them as JPEG/PNG images using Pillow\n",
    "        for i in range(patches.shape[0]):\n",
    "            for j in range(patches.shape[1]):\n",
    "                patch = np.squeeze(patches[i, j])\n",
    "                # Get the upper-left corner of the patch in geographic coordinates\n",
    "                x = geotransform[0] + j * 1280 * geotransform[1] + i * 1280 * geotransform[2]\n",
    "                y = geotransform[3] + j * 1280 * geotransform[4] + i * 1280 * geotransform[5]\n",
    "                # Get the lower-right corner of the patch in geographic coordinates\n",
    "                a = x + 1280 * geotransform[1]\n",
    "                b = y + 1280 * geotransform[5]\n",
    "                # Define the path and filename for the output file\n",
    "                filename = f\"{x}_{y}_{a}_{b}.jpg\"\n",
    "                path = os.path.join(output_subdir, filename)\n",
    "                # Convert the patch to a PIL Image object and save as JPEG/PNG\n",
    "                img = Image.fromarray(patch, mode='RGB')\n",
    "                img.save(path, format='JPEG')\n",
    "\n"
   ]
  }
 ],
 "metadata": {
  "kernelspec": {
   "display_name": "Python",
   "language": "python",
   "name": "python3"
  },
  "language_info": {
   "codemirror_mode": {
    "name": "ipython",
    "version": 3
   },
   "file_extension": ".py",
   "mimetype": "text/x-python",
   "name": "python",
   "nbconvert_exporter": "python",
   "pygments_lexer": "ipython3",
   "version": "3.8.10"
  }
 },
 "nbformat": 4,
 "nbformat_minor": 5
}
